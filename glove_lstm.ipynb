{
 "cells": [
  {
   "cell_type": "code",
   "execution_count": 69,
   "metadata": {},
   "outputs": [],
   "source": [
    "import os\n",
    "import pandas as pd\n",
    "import numpy as np\n",
    "\n",
    "# #Visualizations\n",
    "import matplotlib.pyplot as plt\n",
    "import seaborn as sns\n",
    "%matplotlib inline\n",
    "\n",
    "#Default Size plot \n",
    "from pylab import rcParams\n",
    "rcParams['figure.figsize']=12,5\n",
    "rcParams['axes.labelsize']=12\n",
    "rcParams['xtick.labelsize']=12\n",
    "rcParams['ytick.labelsize']=12\n",
    "\n",
    "#Handle warning\n",
    "import warnings\n",
    "warnings.filterwarnings(action='ignore',category=DeprecationWarning)\n",
    "warnings.filterwarnings(action='ignore',category=FutureWarning)\n",
    "\n",
    "#nltk preprocessing modules\n",
    "import nltk\n",
    "from nltk.corpus import stopwords\n",
    "from nltk.tokenize import word_tokenize\n",
    "from nltk.tokenize import sent_tokenize\n",
    "from nltk.tokenize import WordPunctTokenizer\n",
    "from nltk.tokenize import TweetTokenizer\n",
    "from nltk.stem import WordNetLemmatizer\n",
    "from nltk.stem import PorterStemmer\n",
    "\n",
    "#regex to find the pattern\n",
    "import re\n",
    "\n",
    "#display pandas dataframe columns \n",
    "pd.options.display.max_columns = None\n",
    "pd.set_option('display.max_colwidth', None)"
   ]
  },
  {
   "cell_type": "code",
   "execution_count": 70,
   "metadata": {},
   "outputs": [],
   "source": [
    "df1 = pd.read_csv(r'/Users/hirthickkesh/Downloads/hate_tweet/train.csv', delimiter=',',engine='python',encoding='utf-8-sig')\n",
    "test = pd.read_csv(r'/Users/hirthickkesh/Downloads/hate_tweet/test.csv')"
   ]
  },
  {
   "cell_type": "code",
   "execution_count": 71,
   "metadata": {},
   "outputs": [],
   "source": [
    "df1.drop('id',axis=1,inplace=True)"
   ]
  },
  {
   "cell_type": "code",
   "execution_count": 72,
   "metadata": {},
   "outputs": [],
   "source": [
    "import unicodedata\n",
    "def simplify(text):\n",
    "    try:\n",
    "        text = unicode(text, 'utf-8')\n",
    "    except NameError:\n",
    "        pass\n",
    "    text = unicodedata.normalize('NFD', text).encode('ascii', 'ignore').decode(\"utf-8\")\n",
    "    return str(text)"
   ]
  },
  {
   "cell_type": "code",
   "execution_count": 73,
   "metadata": {},
   "outputs": [],
   "source": [
    "df1['tweet'] = df1['tweet'].apply(simplify)\n",
    "df1['tweet'].replace(r'@\\w+','',regex=True,inplace=True) #username\n",
    "df1['tweet'].replace(r'http\\S+','',regex=True,inplace=True) #urls"
   ]
  },
  {
   "cell_type": "code",
   "execution_count": 74,
   "metadata": {},
   "outputs": [],
   "source": [
    "tt = TweetTokenizer(preserve_case=True) #preserve case is set to true because of preserving the Capital letters.\n",
    "df1['tweet'] = df1['tweet'].apply(tt.tokenize)"
   ]
  },
  {
   "cell_type": "code",
   "execution_count": 75,
   "metadata": {},
   "outputs": [
    {
     "name": "stderr",
     "output_type": "stream",
     "text": [
      "[nltk_data] Downloading package stopwords to\n",
      "[nltk_data]     /Users/hirthickkesh/nltk_data...\n",
      "[nltk_data]   Package stopwords is already up-to-date!\n"
     ]
    }
   ],
   "source": [
    "nltk.download('stopwords')\n",
    "stop_words = stopwords.words('english')\n",
    "\n",
    "additional_list = ['amp','rt','u',\"can't\",'ur']\n",
    "\n",
    "for words in additional_list:\n",
    "    stop_words.append(words)"
   ]
  },
  {
   "cell_type": "code",
   "execution_count": 76,
   "metadata": {},
   "outputs": [],
   "source": [
    "def remove_stopwords(text):\n",
    "    clean_text = [word for word in text if not word in stop_words]\n",
    "    return clean_text   \n",
    "df1['tweet'] = df1['tweet'].apply(remove_stopwords)"
   ]
  },
  {
   "cell_type": "code",
   "execution_count": 77,
   "metadata": {},
   "outputs": [],
   "source": [
    "def remove_hashsymbols(text):\n",
    "    pattern = re.compile(r'#')\n",
    "    text = ' '.join(text)\n",
    "    clean_text = re.sub(pattern,'',text)\n",
    "    return tt.tokenize(clean_text)   \n",
    "df1['tweet'] = df1['tweet'].apply(remove_hashsymbols)"
   ]
  },
  {
   "cell_type": "code",
   "execution_count": 78,
   "metadata": {},
   "outputs": [],
   "source": [
    "def rem_shortwords(text):\n",
    "    lengths = [1,2]\n",
    "    new_text = ' '.join(text)\n",
    "    for word in text:\n",
    "        text = [word for word in tt.tokenize(new_text) if not len(word) in lengths]\n",
    "        \n",
    "    return new_text\n",
    "\n",
    "df1['tweet'] = df1['tweet'].apply(rem_shortwords)\n"
   ]
  },
  {
   "cell_type": "code",
   "execution_count": 79,
   "metadata": {},
   "outputs": [],
   "source": [
    "df1['tweet'] = df1['tweet'].apply(tt.tokenize)"
   ]
  },
  {
   "cell_type": "code",
   "execution_count": 80,
   "metadata": {},
   "outputs": [],
   "source": [
    "def rem_digits(text):\n",
    "    no_digits = []\n",
    "    for word in text:\n",
    "        no_digits.append(re.sub(r'\\d','',word))\n",
    "    return ' '.join(no_digits) \n",
    "df1['tweet'] = df1['tweet'].apply(rem_digits)\n"
   ]
  },
  {
   "cell_type": "code",
   "execution_count": 81,
   "metadata": {},
   "outputs": [],
   "source": [
    "df1['tweet'] = df1['tweet'].apply(tt.tokenize)"
   ]
  },
  {
   "cell_type": "code",
   "execution_count": 82,
   "metadata": {},
   "outputs": [],
   "source": [
    "def rem_nonalpha(text):\n",
    "    text = [word for word in text if word.isalpha()]\n",
    "    return text\n",
    "\n",
    "df1['tweet'] = df1['tweet'].apply(rem_nonalpha)"
   ]
  },
  {
   "cell_type": "code",
   "execution_count": 83,
   "metadata": {},
   "outputs": [
    {
     "data": {
      "text/html": [
       "<div>\n",
       "<style scoped>\n",
       "    .dataframe tbody tr th:only-of-type {\n",
       "        vertical-align: middle;\n",
       "    }\n",
       "\n",
       "    .dataframe tbody tr th {\n",
       "        vertical-align: top;\n",
       "    }\n",
       "\n",
       "    .dataframe thead th {\n",
       "        text-align: right;\n",
       "    }\n",
       "</style>\n",
       "<table border=\"1\" class=\"dataframe\">\n",
       "  <thead>\n",
       "    <tr style=\"text-align: right;\">\n",
       "      <th></th>\n",
       "      <th>label</th>\n",
       "      <th>tweet</th>\n",
       "    </tr>\n",
       "  </thead>\n",
       "  <tbody>\n",
       "    <tr>\n",
       "      <th>0</th>\n",
       "      <td>0</td>\n",
       "      <td>father dysfunctional selfish drags kids dysfunction run</td>\n",
       "    </tr>\n",
       "    <tr>\n",
       "      <th>1</th>\n",
       "      <td>0</td>\n",
       "      <td>thanks lyft credit use cause offer wheelchair vans pdx disapointed getthanked</td>\n",
       "    </tr>\n",
       "    <tr>\n",
       "      <th>2</th>\n",
       "      <td>0</td>\n",
       "      <td>bihday majesty</td>\n",
       "    </tr>\n",
       "    <tr>\n",
       "      <th>3</th>\n",
       "      <td>0</td>\n",
       "      <td>model love take time</td>\n",
       "    </tr>\n",
       "    <tr>\n",
       "      <th>4</th>\n",
       "      <td>0</td>\n",
       "      <td>factsguide society motivation</td>\n",
       "    </tr>\n",
       "    <tr>\n",
       "      <th>...</th>\n",
       "      <td>...</td>\n",
       "      <td>...</td>\n",
       "    </tr>\n",
       "    <tr>\n",
       "      <th>31957</th>\n",
       "      <td>0</td>\n",
       "      <td>ate isz youuu ai</td>\n",
       "    </tr>\n",
       "    <tr>\n",
       "      <th>31958</th>\n",
       "      <td>0</td>\n",
       "      <td>see nina turner airwaves trying wrap mantle genuine hero like shirley chisolm shame imwithher</td>\n",
       "    </tr>\n",
       "    <tr>\n",
       "      <th>31959</th>\n",
       "      <td>0</td>\n",
       "      <td>listening sad songs monday morning otw work sad</td>\n",
       "    </tr>\n",
       "    <tr>\n",
       "      <th>31960</th>\n",
       "      <td>1</td>\n",
       "      <td>sikh temple vandalised calgary wso condemns act</td>\n",
       "    </tr>\n",
       "    <tr>\n",
       "      <th>31961</th>\n",
       "      <td>0</td>\n",
       "      <td>thank follow</td>\n",
       "    </tr>\n",
       "  </tbody>\n",
       "</table>\n",
       "<p>31962 rows × 2 columns</p>\n",
       "</div>"
      ],
      "text/plain": [
       "       label  \\\n",
       "0          0   \n",
       "1          0   \n",
       "2          0   \n",
       "3          0   \n",
       "4          0   \n",
       "...      ...   \n",
       "31957      0   \n",
       "31958      0   \n",
       "31959      0   \n",
       "31960      1   \n",
       "31961      0   \n",
       "\n",
       "                                                                                               tweet  \n",
       "0                                            father dysfunctional selfish drags kids dysfunction run  \n",
       "1                      thanks lyft credit use cause offer wheelchair vans pdx disapointed getthanked  \n",
       "2                                                                                     bihday majesty  \n",
       "3                                                                               model love take time  \n",
       "4                                                                      factsguide society motivation  \n",
       "...                                                                                              ...  \n",
       "31957                                                                               ate isz youuu ai  \n",
       "31958  see nina turner airwaves trying wrap mantle genuine hero like shirley chisolm shame imwithher  \n",
       "31959                                                listening sad songs monday morning otw work sad  \n",
       "31960                                                sikh temple vandalised calgary wso condemns act  \n",
       "31961                                                                                   thank follow  \n",
       "\n",
       "[31962 rows x 2 columns]"
      ]
     },
     "execution_count": 83,
     "metadata": {},
     "output_type": "execute_result"
    }
   ],
   "source": [
    "df1['tweet'] = df1['tweet'].apply(lambda x: ' '.join(x))\n",
    "df1"
   ]
  },
  {
   "cell_type": "code",
   "execution_count": 84,
   "metadata": {},
   "outputs": [],
   "source": [
    "X = df1['tweet']\n",
    "y = df1['label']"
   ]
  },
  {
   "cell_type": "code",
   "execution_count": 85,
   "metadata": {},
   "outputs": [
    {
     "name": "stdout",
     "output_type": "stream",
     "text": [
      "(25569,) (6393,) (25569,) (6393,)\n"
     ]
    }
   ],
   "source": [
    "from sklearn.model_selection import train_test_split\n",
    "seed = 51\n",
    "test_size = 0.2 \n",
    "X_train,X_test,y_train,y_test = train_test_split(X,y,test_size=0.2,random_state=seed,stratify=df1['label']) #use stratify to maintain the imbalance in the dataset\n",
    "print(X_train.shape,X_test.shape,y_train.shape,y_test.shape)"
   ]
  },
  {
   "cell_type": "code",
   "execution_count": 86,
   "metadata": {},
   "outputs": [
    {
     "name": "stdout",
     "output_type": "stream",
     "text": [
      "Loaded 1193515 word vectors.\n"
     ]
    }
   ],
   "source": [
    "import numpy as np\n",
    "\n",
    "embedding_dim = 100  \n",
    "embedding_index = {}\n",
    "\n",
    "glove_file_path = '/Users/hirthickkesh/Downloads/hate_tweet/glove.twitter.27B.100d.txt'\n",
    "\n",
    "# Load the GloVe word embeddings into a dictionary\n",
    "with open(glove_file_path, encoding=\"utf-8\") as f:\n",
    "    for line in f:\n",
    "        values = line.split()\n",
    "        word = values[0]\n",
    "        vector = np.asarray(values[1:], dtype=\"float32\")\n",
    "        embedding_index[word] = vector\n",
    "\n",
    "print(f\"Loaded {len(embedding_index)} word vectors.\")"
   ]
  },
  {
   "cell_type": "code",
   "execution_count": null,
   "metadata": {},
   "outputs": [
    {
     "name": "stdout",
     "output_type": "stream",
     "text": [
      "Embedding matrix shape: (5001, 100)\n"
     ]
    }
   ],
   "source": [
    "from sklearn.feature_extraction.text import TfidfVectorizer\n",
    "from sklearn.feature_extraction.text import TfidfTransformer\n",
    "vectorizer = TfidfVectorizer(max_features=5000)\n",
    "\n",
    "X_train_tfidf = vectorizer.fit_transform(X_train)  \n",
    "\n",
    "word_index = vectorizer.vocabulary_\n",
    "\n",
    "embedding_matrix = np.zeros((len(word_index) + 1, embedding_dim))  # +1 is because the matrix indices start from 1 and not 0\n",
    "\n",
    "for word, index in word_index.items():\n",
    "    embedding_vector = embedding_index.get(word)\n",
    "    if embedding_vector is not None:\n",
    "        embedding_matrix[index] = embedding_vector\n",
    "\n",
    "print(f\"Embedding matrix shape: {embedding_matrix.shape}\")"
   ]
  },
  {
   "cell_type": "code",
   "execution_count": null,
   "metadata": {},
   "outputs": [],
   "source": [
    "from tensorflow.keras.preprocessing.sequence import pad_sequences\n",
    "\n",
    "X_train_sequences = [vectorizer.build_analyzer()(tweet) for tweet in X_train]\n",
    "X_test_sequences = [vectorizer.build_analyzer()(tweet) for tweet in X_test]\n",
    "\n",
    "X_train_indices = [[word_index.get(word, 0) for word in tweet] for tweet in X_train_sequences]  \n",
    "X_test_indices = [[word_index.get(word, 0) for word in tweet] for tweet in X_test_sequences]\n",
    "\n",
    "max_sequence_length = 100  \n",
    "X_train_padded = pad_sequences(X_train_indices, maxlen=max_sequence_length)\n",
    "X_test_padded = pad_sequences(X_test_indices, maxlen=max_sequence_length)\n"
   ]
  },
  {
   "cell_type": "code",
   "execution_count": null,
   "metadata": {},
   "outputs": [
    {
     "name": "stdout",
     "output_type": "stream",
     "text": [
      "Epoch 1/15, Train Loss: 0.4759, Val Loss: 0.4729\n",
      "Epoch 2/15, Train Loss: 0.4702, Val Loss: 0.4667\n",
      "Epoch 3/15, Train Loss: 0.4675, Val Loss: 0.4656\n",
      "Epoch 4/15, Train Loss: 0.4647, Val Loss: 0.4614\n",
      "Epoch 5/15, Train Loss: 0.4600, Val Loss: 0.4621\n",
      "Epoch 6/15, Train Loss: 0.4569, Val Loss: 0.4562\n",
      "Epoch 7/15, Train Loss: 0.4542, Val Loss: 0.4605\n",
      "Epoch 8/15, Train Loss: 0.4462, Val Loss: 0.4503\n",
      "Epoch 9/15, Train Loss: 0.4427, Val Loss: 0.4469\n",
      "Epoch 10/15, Train Loss: 0.4416, Val Loss: 0.4456\n",
      "Epoch 11/15, Train Loss: 0.4363, Val Loss: 0.4428\n",
      "Epoch 12/15, Train Loss: 0.4321, Val Loss: 0.4540\n",
      "Epoch 13/15, Train Loss: 0.4300, Val Loss: 0.4515\n",
      "Epoch 14/15, Train Loss: 0.4264, Val Loss: 0.4422\n",
      "Epoch 15/15, Train Loss: 0.4237, Val Loss: 0.4407\n",
      "Restored best model state\n"
     ]
    },
    {
     "data": {
      "image/png": "[encoded data removed]",
      "text/plain": [
       "<Figure size 1000x500 with 1 Axes>"
      ]
     },
     "metadata": {},
     "output_type": "display_data"
    },
    {
     "name": "stdout",
     "output_type": "stream",
     "text": [
      "              precision    recall  f1-score   support\n",
      "\n",
      "    Not Hate       0.94      1.00      0.97      5945\n",
      "        Hate       0.80      0.23      0.35       448\n",
      "\n",
      "    accuracy                           0.94      6393\n",
      "   macro avg       0.87      0.61      0.66      6393\n",
      "weighted avg       0.93      0.94      0.93      6393\n",
      "\n"
     ]
    }
   ],
   "source": [
    "import torch\n",
    "import torch.nn as nn\n",
    "from torch.utils.data import DataLoader, TensorDataset\n",
    "import numpy as np\n",
    "from sklearn.metrics import classification_report\n",
    "import copy\n",
    "import matplotlib.pyplot as plt\n",
    "\n",
    "X_train_tensor = torch.tensor(X_train_padded, dtype=torch.long)\n",
    "X_test_tensor = torch.tensor(X_test_padded, dtype=torch.long)\n",
    "\n",
    "y_train_tensor = torch.tensor(np.eye(2)[y_train.values], dtype=torch.float32)  \n",
    "y_test_tensor = torch.tensor(np.eye(2)[y_test.values], dtype=torch.float32)  \n",
    "\n",
    "train_data = TensorDataset(X_train_tensor, y_train_tensor)\n",
    "test_data = TensorDataset(X_test_tensor, y_test_tensor)\n",
    "\n",
    "train_loader = DataLoader(train_data, batch_size=64, shuffle=True)\n",
    "test_loader = DataLoader(test_data, batch_size=64, shuffle=False)\n",
    "\n",
    "class BiLSTMModel(nn.Module):\n",
    "    def __init__(self, vocab_size, embedding_dim, embedding_matrix, hidden_dim, output_dim, max_len):\n",
    "        super(BiLSTMModel, self).__init__()\n",
    "        \n",
    "        self.embedding = nn.Embedding(vocab_size, embedding_dim)\n",
    "        self.embedding.weight.data.copy_(torch.tensor(embedding_matrix))\n",
    "        self.embedding.weight.requires_grad = False  \n",
    "\n",
    "        self.lstm = nn.LSTM(embedding_dim, hidden_dim, batch_first=True, bidirectional=True)\n",
    "\n",
    "        self.fc = nn.Linear(hidden_dim * 2, output_dim)  # Output dimension is 2 (logits for both classes)\n",
    "        \n",
    "        self.relu = nn.ReLU()\n",
    "        \n",
    "        self.dropout = nn.Dropout(0.5)\n",
    "\n",
    "    def forward(self, x):\n",
    "        embedded = self.embedding(x)  \n",
    "        lstm_out, _ = self.lstm(embedded) \n",
    "        lstm_out = lstm_out[:, -1, :] \n",
    "        out = self.dropout(lstm_out) \n",
    "        out = self.fc(out)  \n",
    "        out = self.relu(out)  \n",
    "        return out\n",
    "\n",
    "# Hyperparameters\n",
    "hidden_dim = 128  \n",
    "output_dim = 2  \n",
    "vocab_size = len(word_index) + 1 \n",
    "embedding_dim = 300  \n",
    "embedding_matrix = np.random.rand(vocab_size, embedding_dim) \n",
    "max_sequence_length = 100  \n",
    "\n",
    "# Initialize the model\n",
    "model = BiLSTMModel(vocab_size, embedding_dim, embedding_matrix, hidden_dim, output_dim, max_sequence_length)\n",
    "\n",
    "# Loss function and optimizer\n",
    "criterion = nn.BCEWithLogitsLoss()  \n",
    "optimizer = torch.optim.Adam(model.parameters(), lr=0.001)  \n",
    "\n",
    "# Early Stopping \n",
    "patience = 5  \n",
    "min_delta = 0.001  \n",
    "best_val_loss = float('inf')\n",
    "counter = 0\n",
    "best_model_state = None\n",
    "\n",
    "# Tracking losses for plotting\n",
    "train_losses = []\n",
    "val_losses = []\n",
    "\n",
    "num_epochs = 15\n",
    "for epoch in range(num_epochs):\n",
    "    model.train()  \n",
    "    running_train_loss = 0.0\n",
    "    \n",
    "    for batch in train_loader:\n",
    "        inputs, labels = batch\n",
    "        optimizer.zero_grad()  \n",
    "\n",
    "        outputs = model(inputs)\n",
    "        loss = criterion(outputs, labels) \n",
    "        loss.backward()  \n",
    "        optimizer.step() \n",
    "\n",
    "        running_train_loss += loss.item()\n",
    "\n",
    "    model.eval()  \n",
    "    running_val_loss = 0.0\n",
    "    with torch.no_grad():\n",
    "        for batch in test_loader:\n",
    "            inputs, labels = batch\n",
    "            outputs = model(inputs)\n",
    "            val_loss = criterion(outputs, labels)\n",
    "            running_val_loss += val_loss.item()\n",
    "    \n",
    "    avg_train_loss = running_train_loss / len(train_loader)\n",
    "    avg_val_loss = running_val_loss / len(test_loader)\n",
    "    \n",
    "    train_losses.append(avg_train_loss)\n",
    "    val_losses.append(avg_val_loss)\n",
    "    \n",
    "    print(f\"Epoch {epoch+1}/{num_epochs}, Train Loss: {avg_train_loss:.4f}, Val Loss: {avg_val_loss:.4f}\")\n",
    "    \n",
    "    if avg_val_loss < best_val_loss - min_delta:\n",
    "        best_val_loss = avg_val_loss\n",
    "        counter = 0\n",
    "        best_model_state = copy.deepcopy(model.state_dict())\n",
    "    else:\n",
    "        counter += 1\n",
    "    \n",
    "    if counter >= patience:\n",
    "        print(f\"Early stopping triggered after {epoch+1} epochs\")\n",
    "        break\n",
    "\n",
    "if best_model_state is not None:\n",
    "    model.load_state_dict(best_model_state)\n",
    "    print(\"Restored best model state\")\n",
    "\n",
    "# Plot Training and Validation Losses\n",
    "plt.figure(figsize=(10, 5))\n",
    "plt.plot(train_losses, label='Training Loss', color='blue')\n",
    "plt.plot(val_losses, label='Validation Loss', color='red')\n",
    "plt.title('Training and Validation Losses')\n",
    "plt.xlabel('Epochs')\n",
    "plt.ylabel('Loss')\n",
    "plt.legend()\n",
    "plt.grid(True)\n",
    "plt.tight_layout()\n",
    "plt.show()\n",
    "\n",
    "model.eval()  \n",
    "\n",
    "all_preds = []\n",
    "all_labels = []\n",
    "\n",
    "with torch.no_grad():\n",
    "    for batch in test_loader:\n",
    "        inputs, labels = batch\n",
    "        outputs = model(inputs)\n",
    "        \n",
    "        predictions = torch.argmax(torch.sigmoid(outputs), dim=1)  \n",
    "        \n",
    "        all_preds.extend(predictions.cpu().numpy())\n",
    "        all_labels.extend(torch.argmax(labels, dim=1).cpu().numpy())  \n",
    "\n",
    "print(classification_report(all_labels, all_preds, target_names=['Not Hate', 'Hate']))"
   ]
  },
  {
   "cell_type": "code",
   "execution_count": 91,
   "metadata": {},
   "outputs": [
    {
     "name": "stdout",
     "output_type": "stream",
     "text": [
      "Model saved successfully!\n"
     ]
    }
   ],
   "source": [
    "import torch\n",
    "import pickle\n",
    "\n",
    "# torch.save(model.state_dict(), \"lstm_model.pth\")\n",
    "\n",
    "with open(\"bi_lstm_model_glove.pkl\", \"wb\") as f:\n",
    "    pickle.dump(model, f)\n",
    "\n",
    "print(\"Model saved successfully!\")"
   ]
  }
 ],
 "metadata": {
  "kernelspec": {
   "display_name": "Python 3",
   "language": "python",
   "name": "python3"
  },
  "language_info": {
   "codemirror_mode": {
    "name": "ipython",
    "version": 3
   },
   "file_extension": ".py",
   "mimetype": "text/x-python",
   "name": "python",
   "nbconvert_exporter": "python",
   "pygments_lexer": "ipython3",
   "version": "3.11.9"
  }
 },
 "nbformat": 4,
 "nbformat_minor": 2
}
